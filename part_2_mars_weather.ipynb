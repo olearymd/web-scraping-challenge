{
 "cells": [
  {
   "cell_type": "markdown",
   "metadata": {},
   "source": [
    "# Module 12 Challenge\n",
    "## Deliverable 2: Scrape and Analyze Mars Weather Data"
   ]
  },
  {
   "cell_type": "code",
   "execution_count": 2,
   "metadata": {},
   "outputs": [],
   "source": [
    "# Import relevant libraries\n",
    "from splinter import Browser\n",
    "from bs4 import BeautifulSoup as soup\n",
    "import matplotlib.pyplot as plt\n",
    "import pandas as pd"
   ]
  },
  {
   "cell_type": "code",
   "execution_count": 3,
   "metadata": {},
   "outputs": [],
   "source": [
    "browser = Browser('chrome')"
   ]
  },
  {
   "cell_type": "markdown",
   "metadata": {},
   "source": [
    "### Step 1: Visit the Website\n",
    "\n",
    "Use automated browsing to visit the [Mars Temperature Data Site](https://static.bc-edx.com/data/web/mars_facts/temperature.html). Inspect the page to identify which elements to scrape.\n",
    "\n",
    "   > **Hint** To identify which elements to scrape, you might want to inspect the page by using Chrome DevTools to discover whether the table contains usable classes.\n"
   ]
  },
  {
   "cell_type": "code",
   "execution_count": 4,
   "metadata": {},
   "outputs": [],
   "source": [
    "# Visit the website\n",
    "# https://static.bc-edx.com/data/web/mars_facts/temperature.html\n",
    "url = 'https://static.bc-edx.com/data/web/mars_facts/temperature.html'\n",
    "browser.visit(url)\n",
    "html = browser.html"
   ]
  },
  {
   "cell_type": "markdown",
   "metadata": {},
   "source": [
    "### Step 2: Scrape the Table\n",
    "\n",
    "Create a Beautiful Soup object and use it to scrape the data in the HTML table.\n",
    "\n",
    "Note that this can also be achieved by using the Pandas `read_html` function. However, use Beautiful Soup here to continue sharpening your web scraping skills."
   ]
  },
  {
   "cell_type": "code",
   "execution_count": 5,
   "metadata": {},
   "outputs": [],
   "source": [
    "# Create a Beautiful Soup Object\n",
    "html = soup(html, 'html.parser')"
   ]
  },
  {
   "cell_type": "code",
   "execution_count": 6,
   "metadata": {},
   "outputs": [],
   "source": [
    "# Extract all rows of data\n",
    "# \n",
    "rows = html.find_all(\"tr\", class_=\"data-row\")"
   ]
  },
  {
   "cell_type": "markdown",
   "metadata": {},
   "source": [
    "### Step 3: Store the Data\n",
    "\n",
    "Assemble the scraped data into a Pandas DataFrame. The columns should have the same headings as the table on the website. Here’s an explanation of the column headings:\n",
    "\n",
    "* `id`: the identification number of a single transmission from the Curiosity rover\n",
    "* `terrestrial_date`: the date on Earth\n",
    "* `sol`: the number of elapsed sols (Martian days) since Curiosity landed on Mars\n",
    "* `ls`: the solar longitude\n",
    "* `month`: the Martian month\n",
    "* `min_temp`: the minimum temperature, in Celsius, of a single Martian day (sol)\n",
    "* `pressure`: The atmospheric pressure at Curiosity's location"
   ]
  },
  {
   "cell_type": "code",
   "execution_count": 8,
   "metadata": {},
   "outputs": [
    {
     "name": "stdout",
     "output_type": "stream",
     "text": [
      "['2', '2012-08-16', '10', '155', '6', '-75.0', '739.0']\n"
     ]
    }
   ],
   "source": [
    "# Create an empty list for storing all the rows:\n",
    "rows_list = []\n",
    "# Iterate over each row in the table \n",
    "for row in rows:\n",
    "    # Pull the table data out of each cell in the row:\n",
    "    cells = row.find_all(\"td\")\n",
    "    # Make a list to hold the data from each cell in the row:\n",
    "    data_list = []\n",
    "    for cell in cells:\n",
    "        data_list.append(cell.text)\n",
    "    # Append the row of cell data to our list of rows\n",
    "    rows_list.append(data_list)\n",
    "\n",
    "# rows_list is a list of lists.  Let's just pull the first row to verify:\n",
    "print(rows_list[0])\n"
   ]
  },
  {
   "cell_type": "code",
   "execution_count": 9,
   "metadata": {},
   "outputs": [],
   "source": [
    "# Create a Pandas DataFrame by using the list of rows and a list of the column names\n",
    "mars_df = pd.DataFrame(rows_list, columns=[\\\n",
    "    \"id\", \"terrestrial_date\", \"sol\", \"ls\", \"month\", \"min_temp\", \"pressure\"]).\\\n",
    "        set_index(\"id\")\n"
   ]
  },
  {
   "cell_type": "code",
   "execution_count": 10,
   "metadata": {},
   "outputs": [
    {
     "data": {
      "text/html": [
       "<div>\n",
       "<style scoped>\n",
       "    .dataframe tbody tr th:only-of-type {\n",
       "        vertical-align: middle;\n",
       "    }\n",
       "\n",
       "    .dataframe tbody tr th {\n",
       "        vertical-align: top;\n",
       "    }\n",
       "\n",
       "    .dataframe thead th {\n",
       "        text-align: right;\n",
       "    }\n",
       "</style>\n",
       "<table border=\"1\" class=\"dataframe\">\n",
       "  <thead>\n",
       "    <tr style=\"text-align: right;\">\n",
       "      <th></th>\n",
       "      <th>terrestrial_date</th>\n",
       "      <th>sol</th>\n",
       "      <th>ls</th>\n",
       "      <th>month</th>\n",
       "      <th>min_temp</th>\n",
       "      <th>pressure</th>\n",
       "    </tr>\n",
       "    <tr>\n",
       "      <th>id</th>\n",
       "      <th></th>\n",
       "      <th></th>\n",
       "      <th></th>\n",
       "      <th></th>\n",
       "      <th></th>\n",
       "      <th></th>\n",
       "    </tr>\n",
       "  </thead>\n",
       "  <tbody>\n",
       "    <tr>\n",
       "      <th>2</th>\n",
       "      <td>2012-08-16</td>\n",
       "      <td>10</td>\n",
       "      <td>155</td>\n",
       "      <td>6</td>\n",
       "      <td>-75.0</td>\n",
       "      <td>739.0</td>\n",
       "    </tr>\n",
       "    <tr>\n",
       "      <th>13</th>\n",
       "      <td>2012-08-17</td>\n",
       "      <td>11</td>\n",
       "      <td>156</td>\n",
       "      <td>6</td>\n",
       "      <td>-76.0</td>\n",
       "      <td>740.0</td>\n",
       "    </tr>\n",
       "    <tr>\n",
       "      <th>24</th>\n",
       "      <td>2012-08-18</td>\n",
       "      <td>12</td>\n",
       "      <td>156</td>\n",
       "      <td>6</td>\n",
       "      <td>-76.0</td>\n",
       "      <td>741.0</td>\n",
       "    </tr>\n",
       "    <tr>\n",
       "      <th>35</th>\n",
       "      <td>2012-08-19</td>\n",
       "      <td>13</td>\n",
       "      <td>157</td>\n",
       "      <td>6</td>\n",
       "      <td>-74.0</td>\n",
       "      <td>732.0</td>\n",
       "    </tr>\n",
       "    <tr>\n",
       "      <th>46</th>\n",
       "      <td>2012-08-20</td>\n",
       "      <td>14</td>\n",
       "      <td>157</td>\n",
       "      <td>6</td>\n",
       "      <td>-74.0</td>\n",
       "      <td>740.0</td>\n",
       "    </tr>\n",
       "    <tr>\n",
       "      <th>...</th>\n",
       "      <td>...</td>\n",
       "      <td>...</td>\n",
       "      <td>...</td>\n",
       "      <td>...</td>\n",
       "      <td>...</td>\n",
       "      <td>...</td>\n",
       "    </tr>\n",
       "    <tr>\n",
       "      <th>1889</th>\n",
       "      <td>2018-02-23</td>\n",
       "      <td>1973</td>\n",
       "      <td>133</td>\n",
       "      <td>5</td>\n",
       "      <td>-78.0</td>\n",
       "      <td>730.0</td>\n",
       "    </tr>\n",
       "    <tr>\n",
       "      <th>1892</th>\n",
       "      <td>2018-02-24</td>\n",
       "      <td>1974</td>\n",
       "      <td>134</td>\n",
       "      <td>5</td>\n",
       "      <td>-77.0</td>\n",
       "      <td>729.0</td>\n",
       "    </tr>\n",
       "    <tr>\n",
       "      <th>1894</th>\n",
       "      <td>2018-02-25</td>\n",
       "      <td>1975</td>\n",
       "      <td>134</td>\n",
       "      <td>5</td>\n",
       "      <td>-76.0</td>\n",
       "      <td>729.0</td>\n",
       "    </tr>\n",
       "    <tr>\n",
       "      <th>1893</th>\n",
       "      <td>2018-02-26</td>\n",
       "      <td>1976</td>\n",
       "      <td>135</td>\n",
       "      <td>5</td>\n",
       "      <td>-77.0</td>\n",
       "      <td>728.0</td>\n",
       "    </tr>\n",
       "    <tr>\n",
       "      <th>1895</th>\n",
       "      <td>2018-02-27</td>\n",
       "      <td>1977</td>\n",
       "      <td>135</td>\n",
       "      <td>5</td>\n",
       "      <td>-77.0</td>\n",
       "      <td>727.0</td>\n",
       "    </tr>\n",
       "  </tbody>\n",
       "</table>\n",
       "<p>1867 rows × 6 columns</p>\n",
       "</div>"
      ],
      "text/plain": [
       "     terrestrial_date   sol   ls month min_temp pressure\n",
       "id                                                      \n",
       "2          2012-08-16    10  155     6    -75.0    739.0\n",
       "13         2012-08-17    11  156     6    -76.0    740.0\n",
       "24         2012-08-18    12  156     6    -76.0    741.0\n",
       "35         2012-08-19    13  157     6    -74.0    732.0\n",
       "46         2012-08-20    14  157     6    -74.0    740.0\n",
       "...               ...   ...  ...   ...      ...      ...\n",
       "1889       2018-02-23  1973  133     5    -78.0    730.0\n",
       "1892       2018-02-24  1974  134     5    -77.0    729.0\n",
       "1894       2018-02-25  1975  134     5    -76.0    729.0\n",
       "1893       2018-02-26  1976  135     5    -77.0    728.0\n",
       "1895       2018-02-27  1977  135     5    -77.0    727.0\n",
       "\n",
       "[1867 rows x 6 columns]"
      ]
     },
     "execution_count": 10,
     "metadata": {},
     "output_type": "execute_result"
    }
   ],
   "source": [
    "# Confirm DataFrame was created successfully\n",
    "mars_df\n"
   ]
  },
  {
   "cell_type": "markdown",
   "metadata": {},
   "source": [
    "### Step 4: Prepare Data for Analysis\n",
    "\n",
    "Examine the data types that are currently associated with each column. If necessary, cast (or convert) the data to the appropriate `datetime`, `int`, or `float` data types.\n",
    "\n",
    "  > **Hint** You can use the Pandas `astype` and `to_datetime` methods to accomplish this task.\n"
   ]
  },
  {
   "cell_type": "code",
   "execution_count": 11,
   "metadata": {},
   "outputs": [
    {
     "data": {
      "text/plain": [
       "terrestrial_date    object\n",
       "sol                 object\n",
       "ls                  object\n",
       "month               object\n",
       "min_temp            object\n",
       "pressure            object\n",
       "dtype: object"
      ]
     },
     "execution_count": 11,
     "metadata": {},
     "output_type": "execute_result"
    }
   ],
   "source": [
    "# Examine data type of each column\n",
    "# \n",
    "# Get the dtype for one of the columns:\n",
    "# mars_df.sol.dtype\n",
    "# mars_df['sol'].dtype\n",
    "\n",
    "# Get the dtypes for all of the columns:\n",
    "mars_df.dtypes"
   ]
  },
  {
   "cell_type": "code",
   "execution_count": 12,
   "metadata": {},
   "outputs": [],
   "source": [
    "# Change data types for data analysis\n",
    "mars_df.terrestrial_date = pd.to_datetime(mars_df.terrestrial_date)\n",
    "mars_df.sol = mars_df.sol.astype('int')\n",
    "mars_df.ls = mars_df.ls.astype('int')\n",
    "mars_df.month = mars_df.month.astype('int')\n",
    "mars_df.min_temp = mars_df.min_temp.astype('float')\n",
    "mars_df.pressure = mars_df.pressure.astype('float')"
   ]
  },
  {
   "cell_type": "code",
   "execution_count": 13,
   "metadata": {},
   "outputs": [
    {
     "data": {
      "text/plain": [
       "terrestrial_date    datetime64[ns]\n",
       "sol                          int64\n",
       "ls                           int64\n",
       "month                        int64\n",
       "min_temp                   float64\n",
       "pressure                   float64\n",
       "dtype: object"
      ]
     },
     "execution_count": 13,
     "metadata": {},
     "output_type": "execute_result"
    }
   ],
   "source": [
    "# Confirm type changes were successful by examining data types again\n",
    "mars_df.dtypes\n"
   ]
  },
  {
   "cell_type": "markdown",
   "metadata": {},
   "source": [
    "### Step 5: Analyze the Data\n",
    "\n",
    "Analyze your dataset by using Pandas functions to answer the following questions:\n",
    "\n",
    "1. How many months exist on Mars?\n",
    "2. How many Martian (and not Earth) days worth of data exist in the scraped dataset?\n",
    "3. What are the coldest and the warmest months on Mars (at the location of Curiosity)? To answer this question:\n",
    "    * Find the average the minimum daily temperature for all of the months.\n",
    "    * Plot the results as a bar chart.\n",
    "4. Which months have the lowest and the highest atmospheric pressure on Mars? To answer this question:\n",
    "    * Find the average the daily atmospheric pressure of all the months.\n",
    "    * Plot the results as a bar chart.\n",
    "5. About how many terrestrial (Earth) days exist in a Martian year? To answer this question:\n",
    "    * Consider how many days elapse on Earth in the time that Mars circles the Sun once.\n",
    "    * Visually estimate the result by plotting the daily minimum temperature.\n"
   ]
  },
  {
   "cell_type": "code",
   "execution_count": 14,
   "metadata": {},
   "outputs": [
    {
     "name": "stdout",
     "output_type": "stream",
     "text": [
      "There are 12 months in the dataset.\n"
     ]
    }
   ],
   "source": [
    "# 1. How many months are there on Mars?\n",
    "months_count = mars_df.month.nunique()\n",
    "print(f\"There are {months_count} months in the dataset.\")"
   ]
  },
  {
   "cell_type": "code",
   "execution_count": 15,
   "metadata": {},
   "outputs": [
    {
     "name": "stdout",
     "output_type": "stream",
     "text": [
      "There are 1867 martian days in the dataset.\n"
     ]
    }
   ],
   "source": [
    "# 2. How many Martian days' worth of data are there?\n",
    "days_count = mars_df.sol.nunique()\n",
    "print(f\"There are {days_count} martian days in the dataset.\")"
   ]
  },
  {
   "cell_type": "code",
   "execution_count": 16,
   "metadata": {},
   "outputs": [
    {
     "name": "stdout",
     "output_type": "stream",
     "text": [
      "The average Martian daily low temperature is -76.12\n"
     ]
    }
   ],
   "source": [
    "# 3. What is the average low temperature by month?\n",
    "average_temperature = mars_df.min_temp.mean()\n",
    "print(f\"The average Martian daily low temperature is {round(average_temperature, 2)}\")\n"
   ]
  },
  {
   "cell_type": "code",
   "execution_count": 17,
   "metadata": {},
   "outputs": [
    {
     "data": {
      "image/png": "[encoded data removed]",
      "text/plain": [
       "<Figure size 640x480 with 1 Axes>"
      ]
     },
     "metadata": {},
     "output_type": "display_data"
    }
   ],
   "source": [
    "# Plot the average temperature by month\n",
    "mars_temps_df = mars_df[['month','min_temp']].groupby('month').mean()\n",
    "# mars_temps_df\n",
    "ax = mars_temps_df.plot(kind='bar')\n",
    "ax.set_xlabel(\"Month\")\n",
    "ax.set_ylabel(\"Minimum Temp. Celcius\")\n",
    "plt.show()"
   ]
  },
  {
   "cell_type": "code",
   "execution_count": 18,
   "metadata": {},
   "outputs": [
    {
     "name": "stdout",
     "output_type": "stream",
     "text": [
      "The Martian month with the lowest average temperature is month 3.\n"
     ]
    }
   ],
   "source": [
    "# Identify the coldest and hottest months in Curiosity's location\n",
    "# \n",
    "# Create a dataframe grouped by month, with the minimum average temperature for each month:\n",
    "min_temps_df = mars_df[['month','min_temp']].groupby('month').mean()\n",
    "\n",
    "# Get the month with the minimum temperature:\n",
    "min = min_temps_df.min_temp.min()\n",
    "\n",
    "# Get the index corresponding to the month with min value.  This will be our month:\n",
    "min_month = min_temps_df[min_temps_df['min_temp'] == min].index.values[0]\n",
    "print(f\"The Martian month with the lowest average temperature is month {min_month}.\")"
   ]
  },
  {
   "cell_type": "code",
   "execution_count": 19,
   "metadata": {},
   "outputs": [
    {
     "name": "stdout",
     "output_type": "stream",
     "text": [
      "The Martian month with the highest average temperature is month 8.\n"
     ]
    }
   ],
   "source": [
    "# Identify the coldest and hottest months in Curiosity's location\n",
    "# \n",
    "# Create a dataframe grouped by month, with the maximum temperature for each month:\n",
    "max_temps_df = mars_df[['month','min_temp']].groupby('month').mean()\n",
    "# max_temps_df\n",
    "\n",
    "# Get the maximum temperature:\n",
    "max = max_temps_df.min_temp.max()\n",
    "# Get the index corresponding to the month with max value.  This will be our month:\n",
    "max_month = max_temps_df[max_temps_df['min_temp'] == max].index.values[0]\n",
    "print(f\"The Martian month with the highest average temperature is month {max_month}.\")"
   ]
  },
  {
   "cell_type": "code",
   "execution_count": 20,
   "metadata": {},
   "outputs": [
    {
     "data": {
      "text/html": [
       "<div>\n",
       "<style scoped>\n",
       "    .dataframe tbody tr th:only-of-type {\n",
       "        vertical-align: middle;\n",
       "    }\n",
       "\n",
       "    .dataframe tbody tr th {\n",
       "        vertical-align: top;\n",
       "    }\n",
       "\n",
       "    .dataframe thead th {\n",
       "        text-align: right;\n",
       "    }\n",
       "</style>\n",
       "<table border=\"1\" class=\"dataframe\">\n",
       "  <thead>\n",
       "    <tr style=\"text-align: right;\">\n",
       "      <th></th>\n",
       "      <th>pressure</th>\n",
       "    </tr>\n",
       "    <tr>\n",
       "      <th>month</th>\n",
       "      <th></th>\n",
       "    </tr>\n",
       "  </thead>\n",
       "  <tbody>\n",
       "    <tr>\n",
       "      <th>1</th>\n",
       "      <td>862.488506</td>\n",
       "    </tr>\n",
       "    <tr>\n",
       "      <th>2</th>\n",
       "      <td>889.455056</td>\n",
       "    </tr>\n",
       "    <tr>\n",
       "      <th>3</th>\n",
       "      <td>877.322917</td>\n",
       "    </tr>\n",
       "    <tr>\n",
       "      <th>4</th>\n",
       "      <td>806.329897</td>\n",
       "    </tr>\n",
       "    <tr>\n",
       "      <th>5</th>\n",
       "      <td>748.557047</td>\n",
       "    </tr>\n",
       "    <tr>\n",
       "      <th>6</th>\n",
       "      <td>745.054422</td>\n",
       "    </tr>\n",
       "    <tr>\n",
       "      <th>7</th>\n",
       "      <td>795.105634</td>\n",
       "    </tr>\n",
       "    <tr>\n",
       "      <th>8</th>\n",
       "      <td>873.829787</td>\n",
       "    </tr>\n",
       "    <tr>\n",
       "      <th>9</th>\n",
       "      <td>913.305970</td>\n",
       "    </tr>\n",
       "    <tr>\n",
       "      <th>10</th>\n",
       "      <td>887.312500</td>\n",
       "    </tr>\n",
       "    <tr>\n",
       "      <th>11</th>\n",
       "      <td>857.014493</td>\n",
       "    </tr>\n",
       "    <tr>\n",
       "      <th>12</th>\n",
       "      <td>842.156627</td>\n",
       "    </tr>\n",
       "  </tbody>\n",
       "</table>\n",
       "</div>"
      ],
      "text/plain": [
       "         pressure\n",
       "month            \n",
       "1      862.488506\n",
       "2      889.455056\n",
       "3      877.322917\n",
       "4      806.329897\n",
       "5      748.557047\n",
       "6      745.054422\n",
       "7      795.105634\n",
       "8      873.829787\n",
       "9      913.305970\n",
       "10     887.312500\n",
       "11     857.014493\n",
       "12     842.156627"
      ]
     },
     "execution_count": 20,
     "metadata": {},
     "output_type": "execute_result"
    }
   ],
   "source": [
    "# 4. Average pressure by Martian month\n",
    "mars_pressure_df = mars_df[['month', 'pressure']].groupby(\"month\").mean()\n",
    "mars_pressure_df"
   ]
  },
  {
   "cell_type": "code",
   "execution_count": 21,
   "metadata": {},
   "outputs": [
    {
     "data": {
      "image/png": "[encoded data removed]",
      "text/plain": [
       "<Figure size 640x480 with 1 Axes>"
      ]
     },
     "metadata": {},
     "output_type": "display_data"
    }
   ],
   "source": [
    "# Plot the average pressure by month\n",
    "mars_pressure_df.plot.bar()\n",
    "plt.show()"
   ]
  },
  {
   "cell_type": "code",
   "execution_count": 22,
   "metadata": {},
   "outputs": [
    {
     "name": "stdout",
     "output_type": "stream",
     "text": [
      "The Martian month with the lowest average pressure is month 6.\n"
     ]
    }
   ],
   "source": [
    "# Get the minimum average pressure: \n",
    "min = mars_pressure_df.pressure.min()\n",
    "# Get the index corresponding to the month with min value.  This will be our month:\n",
    "min_month = mars_pressure_df[mars_pressure_df['pressure'] == min].index.values[0]\n",
    "print(f\"The Martian month with the lowest average pressure is month {min_month}.\")"
   ]
  },
  {
   "cell_type": "code",
   "execution_count": 23,
   "metadata": {},
   "outputs": [
    {
     "name": "stdout",
     "output_type": "stream",
     "text": [
      "The Martian month with the highest average pressure is month 9.\n"
     ]
    }
   ],
   "source": [
    "# Get the maximim average pressure: \n",
    "max = mars_pressure_df.pressure.max()\n",
    "# Get the index corresponding to the month with max value.  This will be our month:\n",
    "max_month = mars_pressure_df[mars_pressure_df['pressure'] == max].index.values[0]\n",
    "print(f\"The Martian month with the highest average pressure is month {max_month}.\")"
   ]
  },
  {
   "cell_type": "code",
   "execution_count": 24,
   "metadata": {},
   "outputs": [
    {
     "name": "stdout",
     "output_type": "stream",
     "text": [
      "peaks = [ 129  138  716 1373 1384]\n",
      "peak_distances = [  9 578 657  11]\n"
     ]
    },
    {
     "data": {
      "image/png": "[encoded data removed]",
      "text/plain": [
       "<Figure size 640x480 with 1 Axes>"
      ]
     },
     "metadata": {},
     "output_type": "display_data"
    }
   ],
   "source": [
    "# 5. How many terrestrial (earth) days are there in a Martian year?\n",
    "#\n",
    "import matplotlib.pyplot as plt\n",
    "import numpy as np\n",
    "from scipy.signal import find_peaks\n",
    "\n",
    "# Load the min_temp vs. sols data into a dataframe:\n",
    "mars_daily_temps_df = mars_df[['sol','min_temp']]\n",
    "\n",
    "# Identify the peaks in the data using scipy.signal's find_peaks:\n",
    "peaks, _ = find_peaks(mars_daily_temps_df['min_temp'], prominence=10, width=10)\n",
    "print(f\"peaks = {peaks}\")\n",
    "\n",
    "# Calculate the distance between the identified peak indices:\n",
    "peak_distances = np.diff(peaks)\n",
    "print(f\"peak_distances = {peak_distances}\")\n",
    "\n",
    "# Plot the data and the identified peaks\n",
    "fig, ax = plt.subplots()\n",
    "\n",
    "ax.plot(mars_daily_temps_df['sol'], mars_daily_temps_df['min_temp'])\n",
    "ax.plot(mars_daily_temps_df['sol'][peaks], mars_daily_temps_df['min_temp'][peaks], 'ro')\n",
    "ax.set_xlabel('Sols')\n",
    "ax.set_ylabel('Minimum Temp Celcius')\n",
    "ax.set_title('Data with Peaks')\n",
    "\n",
    "plt.show()"
   ]
  },
  {
   "attachments": {},
   "cell_type": "markdown",
   "metadata": {},
   "source": [
    "This data is rather noisy, but we can see three major peaks in the dataset of 1867 sols, for around 622 sols between peaks.  \n",
    "\n",
    "A better way to calculate this would be using the solar longitude, which we will do below:"
   ]
  },
  {
   "cell_type": "code",
   "execution_count": 25,
   "metadata": {},
   "outputs": [
    {
     "name": "stdout",
     "output_type": "stream",
     "text": [
      "peaks = [ 302  923 1577]\n",
      "peak_distances = [621 654]\n"
     ]
    },
    {
     "data": {
      "image/png": "[encoded data removed]",
      "text/plain": [
       "<Figure size 640x480 with 1 Axes>"
      ]
     },
     "metadata": {},
     "output_type": "display_data"
    }
   ],
   "source": [
    "# 5. How many terrestrial (earth) days are there in a Martian year? (Take 2)\n",
    "#\n",
    "import matplotlib.pyplot as plt\n",
    "import numpy as np\n",
    "from scipy.signal import find_peaks\n",
    "\n",
    "# Load the min_temp vs. sols data into a dataframe:\n",
    "mars_solar_longitde_df = mars_df[['sol','ls']]\n",
    "mars_solar_longitde_df\n",
    "\n",
    "# Identify the peaks in the data using scipy.signal's find_peaks:\n",
    "peaks, _ = find_peaks(mars_solar_longitde_df['ls'])\n",
    "print(f\"peaks = {peaks}\")\n",
    "\n",
    "# Calculate the distance between the identified peak indices:\n",
    "peak_distances = np.diff(peaks)\n",
    "print(f\"peak_distances = {peak_distances}\")\n",
    "\n",
    "# Plot the data and the identified peaks\n",
    "fig, ax = plt.subplots()\n",
    "\n",
    "ax.plot(mars_solar_longitde_df['sol'], mars_solar_longitde_df['ls'])\n",
    "ax.plot(mars_solar_longitde_df['sol'][peaks], mars_solar_longitde_df['ls'][peaks], 'ro')\n",
    "ax.set_xlabel('Sols')\n",
    "ax.set_ylabel('Solar Longigude')\n",
    "ax.set_title('Data with Peaks')\n",
    "\n",
    "plt.show()"
   ]
  },
  {
   "attachments": {},
   "cell_type": "markdown",
   "metadata": {},
   "source": [
    "This data is less noisy.  We we can see three major peaks in the dataset, with a distance between peaks of 621 and 654 sols, averaging 638 sols between peaks.  \n",
    "\n",
    "This differs from what Wikipedia says about the number of sols in a martian year - \"approximately 668\" sols.  \n",
    "\n",
    "Upon further investigation, it turns out that there is dataset is missing 110 records.  The number of sols goes up to 1977, but there are only 1867 records in the table.   \n",
    "\n",
    "To get the correct readings, we'll need to interpolate data for the missing days.  That is done below.  "
   ]
  },
  {
   "cell_type": "code",
   "execution_count": 26,
   "metadata": {},
   "outputs": [
    {
     "name": "stdout",
     "output_type": "stream",
     "text": [
      "peaks = [ 339 1007 1676]\n",
      "peak_distances = [668 669]\n"
     ]
    },
    {
     "data": {
      "image/png": "[encoded data removed]",
      "text/plain": [
       "<Figure size 640x480 with 1 Axes>"
      ]
     },
     "metadata": {},
     "output_type": "display_data"
    }
   ],
   "source": [
    "# 5. How many terrestrial (earth) days are there in a Martian year?  (Final)\n",
    "#\n",
    "import matplotlib.pyplot as plt\n",
    "import numpy as np\n",
    "from scipy.signal import find_peaks\n",
    "\n",
    "# Load the min_temp vs. sols data into a dataframe:\n",
    "# mars_daily_temps_df = mars_df[['sol','min_temp']].set_index(\"sol\")\n",
    "mars_solar_longitde_df = mars_df[['sol','ls']]\n",
    "# mars_solar_longitde_df\n",
    "\n",
    "# Get the min and max values for the 'sol' column:\n",
    "min = mars_solar_longitde_df['sol'].min()\n",
    "max = mars_solar_longitde_df['sol'].max()\n",
    "\n",
    "# Reset the index to be sol\n",
    "mars_solar_longitde_df.set_index('sol', inplace=True)\n",
    "\n",
    "# Make an np array of of the 'sol' entries from min to max + 1:\n",
    "complete_sol_range = np.arange(min, max + 1)\n",
    "\n",
    "# Make a new df with complete range of sol entries:\n",
    "complete_df = pd.DataFrame(index=complete_sol_range)\n",
    "\n",
    "# Merge the two data frames:\n",
    "merged_df = complete_df.merge(mars_solar_longitde_df, left_index=True, right_index=True, how='left')\n",
    "\n",
    "# Interpolate the missing values from the original dataframe:\n",
    "merged_df['ls_interp'] = merged_df['ls'].interpolate()\n",
    "\n",
    "# Reset the index:\n",
    "merged_df.reset_index(inplace=True)\n",
    "merged_df.rename(columns={'index': 'sol'}, inplace=True)\n",
    "\n",
    "# Identify the peaks in the data using scipy.signal's find_peaks:\n",
    "peaks, _ = find_peaks(merged_df['ls_interp'])\n",
    "print(f\"peaks = {peaks}\")\n",
    "\n",
    "# Calculate the distance between the identified peak indices:\n",
    "peak_distances = np.diff(peaks)\n",
    "print(f\"peak_distances = {peak_distances}\")\n",
    "\n",
    "# Plot the data and the identified peaks:\n",
    "fig, ax = plt.subplots()\n",
    "\n",
    "ax.plot(merged_df['sol'], merged_df['ls_interp'])\n",
    "ax.plot(merged_df['sol'][peaks], merged_df['ls_interp'][peaks], 'ro')\n",
    "ax.set_xlabel('Sols')\n",
    "ax.set_ylabel('Solar Longigude')\n",
    "ax.set_title('Data with Peaks')\n",
    "\n",
    "plt.show()"
   ]
  },
  {
   "attachments": {},
   "cell_type": "markdown",
   "metadata": {},
   "source": [
    "According to this data, a martian year 668-669 sols, which corresponds to the Wikipedia article stating that a Martian year has approximately 668 sols.  "
   ]
  },
  {
   "cell_type": "markdown",
   "metadata": {},
   "source": [
    "### Step 6: Save the Data\n",
    "\n",
    "Export the DataFrame to a CSV file."
   ]
  },
  {
   "cell_type": "code",
   "execution_count": 27,
   "metadata": {},
   "outputs": [],
   "source": [
    "# Write the data to a CSV\n",
    "mars_df.to_csv(\"mars.csv\")"
   ]
  },
  {
   "cell_type": "code",
   "execution_count": 28,
   "metadata": {},
   "outputs": [],
   "source": [
    "browser.quit()"
   ]
  },
  {
   "cell_type": "code",
   "execution_count": null,
   "metadata": {},
   "outputs": [],
   "source": []
  }
 ],
 "metadata": {
  "kernelspec": {
   "display_name": "Python 3 (ipykernel)",
   "language": "python",
   "name": "python3"
  },
  "language_info": {
   "codemirror_mode": {
    "name": "ipython",
    "version": 3
   },
   "file_extension": ".py",
   "mimetype": "text/x-python",
   "name": "python",
   "nbconvert_exporter": "python",
   "pygments_lexer": "ipython3",
   "version": "3.9.13"
  },
  "vscode": {
   "interpreter": {
    "hash": "31f2aee4e71d21fbe5cf8b01ff0e069b9275f58929596ceb00d14d90e3e16cd6"
   }
  }
 },
 "nbformat": 4,
 "nbformat_minor": 4
}
